{
 "cells": [
  {
   "cell_type": "markdown",
   "id": "0e25c3be",
   "metadata": {},
   "source": [
    "# Taller: Espaciotiempo de Schwarzschild\n",
    "\n",
    "En este notebook, exploraremos la solución de Schwarzschild a las Ecuaciones de Einstein de la Relatividad General.\n",
    "\n",
    "Seguiremos la siguiente estructura:\n",
    "1. Definiremos la métrica de Schwarzschild usando `sympy`.\n",
    "2. Calcularemos los símbolos de Christoffel.\n",
    "3. Obtendremos la ecuación geodésica en este espaciotiempo.\n",
    "4. Exploraremos la librería especializada `EinsteinPy`.\n",
    "\n",
    "Necesitaremos las siguientes librerías de Python:\n",
    "- `sympy` para cálculos simbólicos.\n",
    "- `scipy` y `numpy` para integración numérica.\n",
    "- `matplotlib` para visualización.\n",
    "- `einsteinpy` para cálculos más especializados en RG (al final)."
   ]
  },
  {
   "cell_type": "markdown",
   "id": "1c3c8a3f-340d-44e3-8db4-b0371136e27e",
   "metadata": {},
   "source": [
    "-------------\n",
    "## Preparación\n",
    "\n",
    "### Cargar librerías"
   ]
  },
  {
   "cell_type": "code",
   "execution_count": null,
   "id": "02a8cbc7",
   "metadata": {},
   "outputs": [],
   "source": [
    "import numpy as np\n",
    "import matplotlib.pyplot as plt\n",
    "import sympy as sp\n",
    "from sympy import symbols, Function, Matrix, simplify, sin, cos\n",
    "from scipy.integrate import solve_ivp\n",
    "sp.init_printing()"
   ]
  },
  {
   "cell_type": "markdown",
   "id": "560c24cc-8e6f-40fc-af57-bf7bc89752f1",
   "metadata": {},
   "source": [
    "### Definir la métrica de Schwarzschild"
   ]
  },
  {
   "cell_type": "code",
   "execution_count": null,
   "id": "53909dfa",
   "metadata": {},
   "outputs": [],
   "source": [
    "# Definir variables simbolicas para sympy. Esto nos permitira hacer manipulaciones al estilo 'Wolfram Mathematica'\n",
    "\n",
    "# Las Coordenadas\n",
    "t, r, theta, phi = symbols('t r theta phi')\n",
    "coords = [t, r, theta, phi]\n",
    "\n",
    "# El parametro de masa\n",
    "M = symbols('M', real=True, positive=True)\n",
    "\n",
    "# definir las componentes de la metrica de Schwarzschild\n",
    "g = sp.zeros(4)\n",
    "g[0,0] = -(1 - 2*M/r)\n",
    "g[1,1] = 1/(1 - 2*M/r)\n",
    "g[2,2] = r**2\n",
    "g[3,3] = r**2 * sp.sin(theta)**2\n",
    "\n",
    "# ahora imprimimos la metrica en su forma matricial\n",
    "g"
   ]
  },
  {
   "cell_type": "markdown",
   "id": "c54ce257",
   "metadata": {},
   "source": [
    "\n",
    "## Ejercicio 1: Calcular los símbolos de Christoffel\n",
    "\n",
    "Utilizando la métrica de Schwarzschild definida anteriormente, calcular los símbolos de Christoffel:\n",
    "$$\n",
    "\\Gamma^a_{bc} = \\frac{1}{2} g^{ad}(\\partial_b g_{dc} + \\partial_c g_{db} - \\partial_d g_{bc})\n",
    "$$\n",
    "\n",
    "Comenzar calculando la métrica inversa y las derivadas."
   ]
  },
  {
   "cell_type": "code",
   "execution_count": null,
   "id": "163fd6d8",
   "metadata": {},
   "outputs": [],
   "source": [
    "g_inv = simplify(g.inv())\n",
    "\n",
    "# Notar que tenemos sumatoria solo sobre el indice d\n",
    "Gamma = [[[\n",
    "    simplify(1/2 * sum(g_inv[a,d] * \n",
    "        (sp.diff(g[d,c], coords[b]) + sp.diff(g[d,b], coords[c]) - sp.diff(g[b,c], coords[d]))\n",
    "        for d in range(4)))\n",
    "    for c in range(4)] for b in range(4)] for a in range(4)]\n",
    "\n",
    "# Mostrar las componentes\n",
    "Gamma[1][0][0]  # Γ^r_{tt}"
   ]
  },
  {
   "cell_type": "markdown",
   "id": "65c8a52a-cd3a-40a5-9507-d4a14c38d70c",
   "metadata": {},
   "source": [
    "#### Preguntas:\n",
    "\n",
    "Cuantas componentes de $\\Gamma^a_{bc}$ son distintas de cero?\n",
    "\n",
    "Cuantas componentes independientes tiene? Puede argumentarlo de forma teorica?"
   ]
  },
  {
   "cell_type": "markdown",
   "id": "9db3bea7",
   "metadata": {},
   "source": [
    "## Ejercicio 2: La ecuación geodésica\n",
    "\n",
    "La ecuación geodésica es:\n",
    "\n",
    "$$\n",
    "\\frac{d^2 x^a}{d\\tau^2} + \\Gamma^a_{bc} \\frac{dx^b}{d\\tau} \\frac{dx^c}{d\\tau} = 0\n",
    "$$\n",
    "\n",
    "\n",
    "Analizar el movimiento geodésico en el plano ecuatorial, i.e. $\\theta = \\pi/2$ (Recordar que la metrica tiene simetria esferica)"
   ]
  },
  {
   "cell_type": "code",
   "execution_count": null,
   "id": "0d79b5d1",
   "metadata": {},
   "outputs": [],
   "source": [
    "# En el plano ecuatorial, θ = π/2, y entonces podemos utilizar sin(θ)=1\n",
    "subs_dict = {theta: sp.pi/2, sp.sin(theta): 1, sp.cos(theta): 0}\n",
    "Gamma_simplified = [[[\n",
    "    Gamma[a][b][c].subs(subs_dict) for c in range(4)] for b in range(4)] for a in range(4)]\n",
    "\n",
    "# Definir variables y funciones simbólicas x^a(τ)\n",
    "tau = symbols('tau')\n",
    "x = [Function(str(c))(tau) for c in coords]\n",
    "dx = [sp.diff(xi, tau) for xi in x]\n",
    "ddx = [sp.diff(dxi, tau) for dxi in dx]\n",
    "\n",
    "# Ecuación geodésica\n",
    "geodesic_eq = [\n",
    "    simplify(ddx[a] + sum(Gamma_simplified[a][b][c].subs([(coords[i], x[i]) for i in range(4)]) * dx[b] * dx[c]\n",
    "    for b in range(4) for c in range(4)))\n",
    "    for a in range(4)]\n",
    "\n",
    "# Mostrar las ecuaciones en pantalla\n",
    "geodesic_eq[1]  # ecuación para r(τ)"
   ]
  },
  {
   "cell_type": "markdown",
   "id": "1b8b3d2b-dfdf-4497-9268-9d96b6a5bab4",
   "metadata": {},
   "source": [
    "#### Preguntas:\n",
    "\n",
    "Matemáticamente, qué tipo de ecuaciones son estas?\n",
    "\n",
    "Como sería posible resolverlas?"
   ]
  },
  {
   "cell_type": "markdown",
   "id": "f0b4c283-1eda-46e3-888b-e9df9734b2b9",
   "metadata": {},
   "source": [
    "------\n",
    "## Ejercicio 3: La librería `EinsteinPy`\n",
    "\n",
    "En esta parte, explorar libremente los tutoriales disponibles en \n",
    "\n",
    "https://einsteinpy.org/\n",
    "\n",
    "Luego los comentaremos"
   ]
  },
  {
   "cell_type": "code",
   "execution_count": null,
   "id": "21506cb4-e388-43d7-954a-f229904b9b32",
   "metadata": {},
   "outputs": [],
   "source": []
  }
 ],
 "metadata": {
  "kernelspec": {
   "display_name": "Python 3 (ipykernel)",
   "language": "python",
   "name": "python3"
  },
  "language_info": {
   "codemirror_mode": {
    "name": "ipython",
    "version": 3
   },
   "file_extension": ".py",
   "mimetype": "text/x-python",
   "name": "python",
   "nbconvert_exporter": "python",
   "pygments_lexer": "ipython3",
   "version": "3.12.4"
  }
 },
 "nbformat": 4,
 "nbformat_minor": 5
}
